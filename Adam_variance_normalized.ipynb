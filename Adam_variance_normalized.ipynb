{
 "cells": [
  {
   "cell_type": "code",
   "execution_count": 74,
   "metadata": {},
   "outputs": [
    {
     "data": {
      "image/png": "[encoded data removed]",
      "text/plain": [
       "<Figure size 432x288 with 1 Axes>"
      ]
     },
     "metadata": {},
     "output_type": "display_data"
    },
    {
     "data": {
      "image/png": "[encoded data removed]",
      "text/plain": [
       "<Figure size 432x288 with 1 Axes>"
      ]
     },
     "metadata": {},
     "output_type": "display_data"
    }
   ],
   "source": [
    "import numpy as np\n",
    "import torch\n",
    "import matplotlib.pyplot as plt\n",
    "\n",
    "class Segment(object):\n",
    "    \n",
    "    def __init__(self, b, f):\n",
    "        # assume start from 0\n",
    "        self.b = b\n",
    "        self.f = f\n",
    "    \n",
    "    def connectRight(self, other):\n",
    "        # piece together line segments\n",
    "        # assume self is on the left, other is on the right\n",
    "        \n",
    "        def f(x):\n",
    "            f1b = self.f(self.b)\n",
    "            f2b = other.f(self.b)\n",
    "\n",
    "            if x <= self.b:\n",
    "                return self.f(x)\n",
    "            else:\n",
    "                return other.f(x) - (f2b - f1b)\n",
    "            \n",
    "        return Segment(other.b, f)\n",
    "        \n",
    "    def plot(self, b=None, c='b'):\n",
    "        x = np.linspace(0, b or self.b, 100)\n",
    "        plt.plot(x, [self.f(x_) for x_ in x], label='f(x)', c=c)\n",
    "        \n",
    "    def plot_grad(self, b=None, c='b'):\n",
    "        b = b or self.b\n",
    "        grads = []\n",
    "        xs = np.linspace(0, b, 100)\n",
    "        for x in xs:\n",
    "            x = torch.nn.Parameter(torch.Tensor([x]))\n",
    "            y = s.forward(x)\n",
    "            y.backward()\n",
    "            grads.append(x.grad.item())\n",
    "        plt.plot(xs, grads, label='grad', c=c)\n",
    "        \n",
    "    def forward(self, x):\n",
    "        return self.f(x)\n",
    "            \n",
    "s1 = Segment(10, lambda x: -0.5*x + 10) # A\n",
    "s2 = Segment(20, lambda x: -5*x) # D\n",
    "s3 = Segment(30, lambda x: -1*x + 10) # A\n",
    "s4 = Segment(100, lambda x: ((x-42.5)/5)**2) # E\n",
    "\n",
    "s = s1.connectRight(s2).connectRight(s3).connectRight(s4)\n",
    "s.plot(60)\n",
    "plt.legend()\n",
    "plt.show()\n",
    "\n",
    "s.plot_grad(60, c='r')\n",
    "plt.legend()\n",
    "plt.show()\n",
    "        \n",
    "    "
   ]
  },
  {
   "cell_type": "code",
   "execution_count": 88,
   "metadata": {},
   "outputs": [
    {
     "name": "stdout",
     "output_type": "stream",
     "text": [
      "x[0]=0.0\n",
      "x[500]=3.5120701789855957\n",
      "x[1000]=10.4623441696167\n",
      "x[1500]=17.93706512451172\n",
      "x[2000]=21.147056579589844\n",
      "x[2500]=22.887653350830078\n",
      "x[3000]=25.17403793334961\n",
      "x[3500]=28.149333953857422\n",
      "x[4000]=31.858619689941406\n",
      "x[4500]=35.368770599365234\n",
      "x[5000]=38.244110107421875\n",
      "x[5500]=40.31209945678711\n",
      "x[6000]=41.57229995727539\n",
      "x[6500]=42.19352340698242\n",
      "x[7000]=42.42677307128906\n",
      "x[7500]=42.4885368347168\n",
      "x[8000]=42.49898910522461\n",
      "x[8500]=42.499717712402344\n",
      "x[9000]=42.499778747558594\n",
      "x[9500]=42.49982833862305\n"
     ]
    }
   ],
   "source": [
    "from lib.optimizer import Diff\n",
    "\n",
    "x = torch.nn.Parameter(torch.Tensor([0])) # start from 0\n",
    "optimizer = Diff([x])\n",
    "#optimizer = torch.optim.Adam([x], lr=1e-3)\n",
    "#optimizer = torch.optim.SGD([x], lr=1e-3)\n",
    "\n",
    "def closure():\n",
    "    optimizer.zero_grad()\n",
    "    l = s.forward(x) # x is parameter\n",
    "    l.backward()\n",
    "    return l\n",
    "\n",
    "for i in range(10000):\n",
    "    if i % 500 == 0:\n",
    "        print('x[{}]={}'.format(i, x.item()))\n",
    "    l = optimizer.step(closure)"
   ]
  },
  {
   "cell_type": "code",
   "execution_count": null,
   "metadata": {},
   "outputs": [],
   "source": []
  }
 ],
 "metadata": {
  "kernelspec": {
   "display_name": "Python 3",
   "language": "python",
   "name": "python3"
  },
  "language_info": {
   "codemirror_mode": {
    "name": "ipython",
    "version": 3
   },
   "file_extension": ".py",
   "mimetype": "text/x-python",
   "name": "python",
   "nbconvert_exporter": "python",
   "pygments_lexer": "ipython3",
   "version": "3.6.5"
  }
 },
 "nbformat": 4,
 "nbformat_minor": 2
}
